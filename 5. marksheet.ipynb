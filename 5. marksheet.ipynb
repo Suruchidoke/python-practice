{
 "cells": [
  {
   "cell_type": "code",
   "execution_count": 2,
   "id": "352adf39-7e6f-40da-a278-88c15b396e3f",
   "metadata": {},
   "outputs": [
    {
     "name": "stdin",
     "output_type": "stream",
     "text": [
      "Enter the marks of subject 1:  35\n",
      "Enter the marks of subject 2:  34\n",
      "Enter the marks of subject 3:  34\n"
     ]
    },
    {
     "name": "stdout",
     "output_type": "stream",
     "text": [
      "Average of 3 subjects are:  34.333333333333336\n",
      "Fail\n"
     ]
    }
   ],
   "source": [
    "sub1 = float(input(\"Enter the marks of subject 1: \"))\n",
    "sub2 = float(input(\"Enter the marks of subject 2: \"))\n",
    "sub3 = float(input(\"Enter the marks of subject 3: \"))\n",
    "\n",
    "avg=(sub1+sub2+sub3)/3\n",
    "print('Average of 3 subjects are: ',avg)\n",
    "\n",
    "if avg>=35:\n",
    "    print('Pass')\n",
    "else:\n",
    "    print('Fail')"
   ]
  },
  {
   "cell_type": "code",
   "execution_count": null,
   "id": "3d2f3058-11fa-4403-865f-ae06ed1bf601",
   "metadata": {},
   "outputs": [],
   "source": []
  }
 ],
 "metadata": {
  "kernelspec": {
   "display_name": "Python 3 (ipykernel)",
   "language": "python",
   "name": "python3"
  },
  "language_info": {
   "codemirror_mode": {
    "name": "ipython",
    "version": 3
   },
   "file_extension": ".py",
   "mimetype": "text/x-python",
   "name": "python",
   "nbconvert_exporter": "python",
   "pygments_lexer": "ipython3",
   "version": "3.10.11"
  }
 },
 "nbformat": 4,
 "nbformat_minor": 5
}
