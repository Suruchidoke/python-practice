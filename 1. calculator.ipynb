{
 "cells": [
  {
   "cell_type": "code",
   "execution_count": 6,
   "id": "42fb8363-b849-498c-9a5b-cd31794e21a7",
   "metadata": {},
   "outputs": [
    {
     "name": "stdin",
     "output_type": "stream",
     "text": [
      "Enter num1:  6\n",
      "Enter num2:  3\n"
     ]
    },
    {
     "name": "stdout",
     "output_type": "stream",
     "text": [
      "Addition of given numbers are :  9.0\n",
      "Subtraction of given numbers are :  3.0\n",
      "Multiplication of given numbers are :  18.0\n",
      "Division of given numbers are :  2.0\n"
     ]
    }
   ],
   "source": [
    "a = float(input(\"Enter num1: \"))\n",
    "b = float(input(\"Enter num2: \"))\n",
    "\n",
    "add = a+b\n",
    "sub = a - b\n",
    "mul = a*b\n",
    "div = a/b\n",
    "\n",
    "print(\"Addition of given numbers are : \",add)\n",
    "print(\"Subtraction of given numbers are : \",sub)\n",
    "print(\"Multiplication of given numbers are : \",mul)\n",
    "print(\"Division of given numbers are : \",div)\n"
   ]
  },
  {
   "cell_type": "code",
   "execution_count": null,
   "id": "09336060-3843-4110-9fac-db80d4855432",
   "metadata": {},
   "outputs": [],
   "source": []
  }
 ],
 "metadata": {
  "kernelspec": {
   "display_name": "Python 3 (ipykernel)",
   "language": "python",
   "name": "python3"
  },
  "language_info": {
   "codemirror_mode": {
    "name": "ipython",
    "version": 3
   },
   "file_extension": ".py",
   "mimetype": "text/x-python",
   "name": "python",
   "nbconvert_exporter": "python",
   "pygments_lexer": "ipython3",
   "version": "3.10.11"
  }
 },
 "nbformat": 4,
 "nbformat_minor": 5
}
