{
 "cells": [
  {
   "cell_type": "code",
   "execution_count": 6,
   "id": "9ce4c264-0ddb-447d-9c23-21e80438b7f6",
   "metadata": {},
   "outputs": [
    {
     "name": "stdin",
     "output_type": "stream",
     "text": [
      "Enter the number:  9\n"
     ]
    },
    {
     "name": "stdout",
     "output_type": "stream",
     "text": [
      "9  is odd number\n"
     ]
    }
   ],
   "source": [
    "num = int(input(\"Enter the number: \"))\n",
    "\n",
    "if num==0:\n",
    "    print(num,\" is neither even nor odd\")\n",
    "elif num%2==0:\n",
    "    print(num,\" is even number\")\n",
    "else:\n",
    "    print(num,\" is odd number\")"
   ]
  },
  {
   "cell_type": "code",
   "execution_count": null,
   "id": "d102794c-4cf2-4036-bfc5-d7aa4c049478",
   "metadata": {},
   "outputs": [],
   "source": []
  }
 ],
 "metadata": {
  "kernelspec": {
   "display_name": "Python 3 (ipykernel)",
   "language": "python",
   "name": "python3"
  },
  "language_info": {
   "codemirror_mode": {
    "name": "ipython",
    "version": 3
   },
   "file_extension": ".py",
   "mimetype": "text/x-python",
   "name": "python",
   "nbconvert_exporter": "python",
   "pygments_lexer": "ipython3",
   "version": "3.10.11"
  }
 },
 "nbformat": 4,
 "nbformat_minor": 5
}
