{
 "cells": [
  {
   "cell_type": "code",
   "execution_count": 4,
   "id": "45ee11de-1c7a-49f5-93e4-eed65b0a247e",
   "metadata": {},
   "outputs": [
    {
     "name": "stdin",
     "output_type": "stream",
     "text": [
      "Enter Your Age : 54\n"
     ]
    },
    {
     "name": "stdout",
     "output_type": "stream",
     "text": [
      "You're an adult\n"
     ]
    }
   ],
   "source": [
    "age = int(input(\"Enter Your Age :\"))\n",
    "\n",
    "if age<18:\n",
    "    print(\"You're a minor\")\n",
    "if 18<=age<=60:\n",
    "    print(\"You're an adult\")\n",
    "if age>=60:\n",
    "    print(\"You're a senior\")\n"
   ]
  },
  {
   "cell_type": "code",
   "execution_count": null,
   "id": "31b5a1b2-539a-4063-beac-e3355251e627",
   "metadata": {},
   "outputs": [],
   "source": []
  }
 ],
 "metadata": {
  "kernelspec": {
   "display_name": "Python 3 (ipykernel)",
   "language": "python",
   "name": "python3"
  },
  "language_info": {
   "codemirror_mode": {
    "name": "ipython",
    "version": 3
   },
   "file_extension": ".py",
   "mimetype": "text/x-python",
   "name": "python",
   "nbconvert_exporter": "python",
   "pygments_lexer": "ipython3",
   "version": "3.10.11"
  }
 },
 "nbformat": 4,
 "nbformat_minor": 5
}
